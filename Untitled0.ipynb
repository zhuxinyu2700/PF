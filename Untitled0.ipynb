{
  "nbformat": 4,
  "nbformat_minor": 0,
  "metadata": {
    "colab": {
      "name": "Untitled0.ipynb",
      "provenance": [],
      "mount_file_id": "1jOUKVbjxD03NSRzGO8VKM1n1nee8eeMg",
      "authorship_tag": "ABX9TyNucB95sjjyMetTf8ubJR+i",
      "include_colab_link": true
    },
    "kernelspec": {
      "name": "python3",
      "display_name": "Python 3"
    },
    "language_info": {
      "name": "python"
    }
  },
  "cells": [
    {
      "cell_type": "markdown",
      "metadata": {
        "id": "view-in-github",
        "colab_type": "text"
      },
      "source": [
        "<a href=\"https://colab.research.google.com/github/zhuxinyu2700/PF/blob/master/Untitled0.ipynb\" target=\"_parent\"><img src=\"https://colab.research.google.com/assets/colab-badge.svg\" alt=\"Open In Colab\"/></a>"
      ]
    },
    {
      "cell_type": "code",
      "metadata": {
        "colab": {
          "base_uri": "https://localhost:8080/"
        },
        "id": "lkapuVB36pIa",
        "outputId": "c4f961f9-e49a-4b9b-b7ab-ab70fee162b3"
      },
      "source": [
        "!git clone https://github.com/zhuxinyu2700/PF.git"
      ],
      "execution_count": null,
      "outputs": [
        {
          "output_type": "stream",
          "name": "stdout",
          "text": [
            "Cloning into 'PF'...\n",
            "remote: Enumerating objects: 64, done.\u001b[K\n",
            "remote: Counting objects: 100% (64/64), done.\u001b[K\n",
            "remote: Compressing objects: 100% (47/47), done.\u001b[K\n",
            "remote: Total 64 (delta 30), reused 48 (delta 14), pack-reused 0\u001b[K\n",
            "Unpacking objects: 100% (64/64), done.\n"
          ]
        }
      ]
    },
    {
      "cell_type": "code",
      "metadata": {
        "colab": {
          "base_uri": "https://localhost:8080/"
        },
        "id": "i5gZHNG17caN",
        "outputId": "64e64608-c559-473b-8f1e-a4f0ae39ff0d"
      },
      "source": [
        "%cd /content/PF\n"
      ],
      "execution_count": null,
      "outputs": [
        {
          "output_type": "stream",
          "name": "stdout",
          "text": [
            "/content/PF\n"
          ]
        }
      ]
    },
    {
      "cell_type": "code",
      "metadata": {
        "colab": {
          "base_uri": "https://localhost:8080/"
        },
        "id": "FelVnShu7guU",
        "outputId": "a84fa7dc-3d54-4b7c-8e4b-3f4d3a6af531"
      },
      "source": [
        "!python3 main_pmf_cm.py"
      ],
      "execution_count": 14,
      "outputs": [
        {
          "output_type": "stream",
          "name": "stdout",
          "text": [
            "/content/PF/preprocess_movie_lens.py:6: ParserWarning: Falling back to the 'python' engine because the 'c' engine does not support regex separators (separators > 1 char and different from '\\s+' are interpreted as regex); you can avoid this warning by specifying engine='python'.\n",
            "  ratings = pd.read_csv('./ml-1m/ratings.dat', sep='::', names=r_cols,encoding='latin-1')\n",
            "/content/PF/preprocess_movie_lens.py:15: ParserWarning: Falling back to the 'python' engine because the 'c' engine does not support regex separators (separators > 1 char and different from '\\s+' are interpreted as regex); you can avoid this warning by specifying engine='python'.\n",
            "  encoding='latin-1', parse_dates=True)\n",
            "/content/PF/preprocess_movie_lens.py:17: ParserWarning: Falling back to the 'python' engine because the 'c' engine does not support regex separators (separators > 1 char and different from '\\s+' are interpreted as regex); you can avoid this warning by specifying engine='python'.\n",
            "  encoding='latin-1', parse_dates=True)\n",
            "/usr/local/lib/python3.7/dist-packages/pandas/core/frame.py:4174: SettingWithCopyWarning: \n",
            "A value is trying to be set on a copy of a slice from a DataFrame\n",
            "\n",
            "See the caveats in the documentation: https://pandas.pydata.org/pandas-docs/stable/user_guide/indexing.html#returning-a-view-versus-a-copy\n",
            "  errors=errors,\n",
            "/usr/local/lib/python3.7/dist-packages/torch/utils/data/dataloader.py:481: UserWarning: This DataLoader will create 4 worker processes in total. Our suggested max number of worker in current system is 2, which is smaller than what this DataLoader is going to create. Please be aware that excessive worker creation might get DataLoader running slow or even freeze, lower the worker number to avoid potential slowness/freeze if necessary.\n",
            "  cpuset_checked))\n",
            "  0% 0/1 [00:00<?, ?it/s]epoch 1 : test PMF Loss is 0.701591 \n",
            "epoch 1 : test H@5 is 0.054169 \n",
            "epoch 1 : test N@5 is 0.032129 \n",
            "\n",
            "0it [00:00, ?it/s]\u001b[Atrain PMF Loss is 0.688018 \n",
            "\n",
            "1it [00:04,  4.39s/it]\u001b[Atrain PMF Loss is 0.687464 \n",
            "\n",
            "2it [00:08,  4.41s/it]\u001b[A[W python_anomaly_mode.cpp:104] Warning: Error detected in AddmmBackward. Traceback of forward call that caused the error:\n",
            "  File \"main_pmf_cm.py\", line 233, in <module>\n",
            "    main(parse_args())\n",
            "  File \"main_pmf_cm.py\", line 204, in main\n",
            "    fairD_set, optimizer_fairD_set, filter_set)\n",
            "  File \"/content/PF/transD_movielens.py\", line 101, in train_pmf\n",
            "    l_penalty_2 = l_penalty_2 + fairD_disc(filter_l_emb.detach(), p_batch[:, 0], True)\n",
            "  File \"/usr/local/lib/python3.7/dist-packages/torch/nn/modules/module.py\", line 1051, in _call_impl\n",
            "    return forward_call(*input, **kwargs)\n",
            "  File \"/content/PF/model.py\", line 381, in forward\n",
            "    scores = self.net(ents_emb)\n",
            "  File \"/usr/local/lib/python3.7/dist-packages/torch/nn/modules/module.py\", line 1051, in _call_impl\n",
            "    return forward_call(*input, **kwargs)\n",
            "  File \"/usr/local/lib/python3.7/dist-packages/torch/nn/modules/container.py\", line 139, in forward\n",
            "    input = module(input)\n",
            "  File \"/usr/local/lib/python3.7/dist-packages/torch/nn/modules/module.py\", line 1051, in _call_impl\n",
            "    return forward_call(*input, **kwargs)\n",
            "  File \"/usr/local/lib/python3.7/dist-packages/torch/nn/modules/linear.py\", line 96, in forward\n",
            "    return F.linear(input, self.weight, self.bias)\n",
            "  File \"/usr/local/lib/python3.7/dist-packages/torch/nn/functional.py\", line 1847, in linear\n",
            "    return torch._C._nn.linear(input, weight, bias)\n",
            " (function _print_stack)\n",
            "2it [00:12,  6.40s/it]\n",
            "  0% 0/1 [05:49<?, ?it/s]\n",
            "Traceback (most recent call last):\n",
            "  File \"main_pmf_cm.py\", line 233, in <module>\n",
            "    main(parse_args())\n",
            "  File \"main_pmf_cm.py\", line 204, in main\n",
            "    fairD_set, optimizer_fairD_set, filter_set)\n",
            "  File \"/content/PF/transD_movielens.py\", line 106, in train_pmf\n",
            "    fairD_loss.backward(retain_graph=True)\n",
            "  File \"/usr/local/lib/python3.7/dist-packages/torch/_tensor.py\", line 255, in backward\n",
            "    torch.autograd.backward(self, gradient, retain_graph, create_graph, inputs=inputs)\n",
            "  File \"/usr/local/lib/python3.7/dist-packages/torch/autograd/__init__.py\", line 149, in backward\n",
            "    allow_unreachable=True, accumulate_grad=True)  # allow_unreachable flag\n",
            "RuntimeError: one of the variables needed for gradient computation has been modified by an inplace operation: [torch.cuda.FloatTensor [15, 21]], which is output 0 of TBackward, is at version 12; expected version 11 instead. Hint: the backtrace further above shows the operation that failed to compute its gradient. The variable in question was changed in there or anywhere later. Good luck!\n"
          ]
        }
      ]
    },
    {
      "cell_type": "code",
      "metadata": {
        "id": "lFLVJDuWGWLK",
        "colab": {
          "base_uri": "https://localhost:8080/"
        },
        "outputId": "d8ef75e1-0bef-42d9-a390-47bb5e22594e"
      },
      "source": [
        "!pip install torch-0.3.1-cp36-cp36m-linux_x86_64.whl"
      ],
      "execution_count": 10,
      "outputs": [
        {
          "output_type": "stream",
          "name": "stdout",
          "text": [
            "\u001b[33mWARNING: Requirement 'torch-0.3.1-cp36-cp36m-linux_x86_64.whl' looks like a filename, but the file does not exist\u001b[0m\n",
            "\u001b[31mERROR: torch-0.3.1-cp36-cp36m-linux_x86_64.whl is not a supported wheel on this platform.\u001b[0m\n"
          ]
        }
      ]
    },
    {
      "cell_type": "code",
      "metadata": {
        "colab": {
          "base_uri": "https://localhost:8080/"
        },
        "id": "-GEvHmmyIt_x",
        "outputId": "f898e51d-d7fb-4138-aa94-62bb0a3eb44a"
      },
      "source": [
        "!pip install --index-url https://test.pypi.org/simple/ --extra-index-url https://pypi.org/simple/ torchvision==0.2.1.post2"
      ],
      "execution_count": 12,
      "outputs": [
        {
          "output_type": "stream",
          "name": "stdout",
          "text": [
            "Looking in indexes: https://test.pypi.org/simple/, https://pypi.org/simple/\n",
            "Collecting torchvision==0.2.1.post2\n",
            "  Downloading https://test-files.pythonhosted.org/packages/cd/49/5f93fd99a6bc8b6e1dece0ca8d5fcfeb234b2ae97a2b68cd168047870f76/torchvision-0.2.1.post2-py2.py3-none-any.whl (54 kB)\n",
            "\u001b[K     |████████████████████████████████| 54 kB 1.8 MB/s \n",
            "\u001b[?25hRequirement already satisfied: six in /usr/local/lib/python3.7/dist-packages (from torchvision==0.2.1.post2) (1.15.0)\n",
            "Requirement already satisfied: tqdm in /usr/local/lib/python3.7/dist-packages (from torchvision==0.2.1.post2) (4.62.3)\n",
            "Requirement already satisfied: numpy in /usr/local/lib/python3.7/dist-packages (from torchvision==0.2.1.post2) (1.19.5)\n",
            "Requirement already satisfied: pillow>=4.1.1 in /usr/local/lib/python3.7/dist-packages (from torchvision==0.2.1.post2) (7.1.2)\n",
            "Installing collected packages: torchvision\n",
            "  Attempting uninstall: torchvision\n",
            "    Found existing installation: torchvision 0.10.0+cu111\n",
            "    Uninstalling torchvision-0.10.0+cu111:\n",
            "      Successfully uninstalled torchvision-0.10.0+cu111\n",
            "Successfully installed torchvision-0.2.1.post2\n"
          ]
        }
      ]
    }
  ]
}